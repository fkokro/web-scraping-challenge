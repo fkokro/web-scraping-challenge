{
 "cells": [
  {
   "cell_type": "code",
   "execution_count": 1,
   "metadata": {},
   "outputs": [],
   "source": [
    "#Import Relevant Libraries\n",
    "import pandas as pd\n",
    "from bs4 import BeautifulSoup as BS\n",
    "import requests\n",
    "from splinter import Browser\n",
    "import pymongo\n",
    "from Driver import chromedriver"
   ]
  },
  {
   "cell_type": "markdown",
   "metadata": {},
   "source": [
    "# Set-up"
   ]
  },
  {
   "cell_type": "code",
   "execution_count": 2,
   "metadata": {},
   "outputs": [],
   "source": [
    "executable_path = {'executable_path': 'chromedriver' }\n",
    "browser = Browser('chrome', **executable_path, headless=False)"
   ]
  },
  {
   "cell_type": "markdown",
   "metadata": {},
   "source": [
    "# NASA Mars News"
   ]
  },
  {
   "cell_type": "markdown",
   "metadata": {},
   "source": [
    "* Scrape the NASA Mars News Site and collect the latest News Title and Paragraph Text. Assign the text to variables that you can reference later."
   ]
  },
  {
   "cell_type": "code",
   "execution_count": 4,
   "metadata": {},
   "outputs": [],
   "source": [
    "#URL to be scraped\n",
    "url = \"https://mars.nasa.gov/news/?page=0&per_page=40&order=publish_date+desc%2Ccreated_at+desc&search=&category=19%2C165%2C184%2C204&blank_scope=Latest\"\n",
    "#Retrieve page with request module\n",
    "response = requests.get(url)\n",
    "#Create a Beautiful Soup object\n",
    "mars_soup = BS(response.text, 'lxml')"
   ]
  },
  {
   "cell_type": "code",
   "execution_count": 5,
   "metadata": {},
   "outputs": [
    {
     "name": "stdout",
     "output_type": "stream",
     "text": [
      "6\n"
     ]
    }
   ],
   "source": [
    "print(len(mars_soup.find_all('div',{'class':'content_title'})))"
   ]
  },
  {
   "cell_type": "code",
   "execution_count": 6,
   "metadata": {},
   "outputs": [
    {
     "name": "stdout",
     "output_type": "stream",
     "text": [
      "--------------\n",
      "Virginia Middle School Student Earns Honor of Naming NASA's Next Mars Rover\n",
      "NASA chose a seventh-grader from Virginia as winner of the agency's \"Name the Rover\" essay contest. Alexander Mather's entry for \"Perseverance\" was voted tops among 28,000 entries.\n",
      "--------------\n",
      "NASA Prepares for Moon and Mars With New Addition to Its Deep Space Network\n",
      "Robotic spacecraft will be able to communicate with the dish using radio waves and lasers.\n",
      "--------------\n",
      "NASA Administrator Statement on Moon to Mars Initiative, FY 2021 Budget\n",
      "Jim Bridenstine addresses NASA's ambitious plans for the coming years, including Mars Sample Return.\n",
      "--------------\n",
      "NASA's Mars 2020 Rover Closer to Getting Its Name\n",
      "155 students from across the U.S. have been chosen as semifinalists in NASA's essay contest to name the Mars 2020 rover, and see it launch from Cape Canaveral this July.\n",
      "--------------\n",
      "NASA Invites Students to Name Mars 2020 Rover\n",
      "Through Nov. 1, K-12 students in the U.S. are encouraged to enter an essay contest to name NASA's next Mars rover.\n",
      "--------------\n",
      "NASA's Curiosity Mars Rover Finds a Clay Cache\n",
      "The rover recently drilled two samples, and both showed the highest levels of clay ever found during the mission.\n"
     ]
    }
   ],
   "source": [
    "#Loop with a try and catch error block that pasres through the NASA data soup to print all titles and summary paragraphs\n",
    "for i in range(0, len(mars_soup.find_all('div',{'class':'content_title'}))):\n",
    "    #error handling\n",
    "    try:\n",
    "        #Identitfy title and return\n",
    "        news_title = mars_soup.find_all('div', {'class':'content_title'})[i].text.strip()\n",
    "        #Find and return and article descriptions\n",
    "        news_p = mars_soup.find_all('div',{'class':'rollover_description_inner'})[i].text.strip()\n",
    "    \n",
    "        #Print if title and paragraph are available\n",
    "        if (news_title and news_p):\n",
    "            print('--------------')\n",
    "            print(f'{news_title}')\n",
    "            print(f'{news_p}')\n",
    "    \n",
    "    except AtrributeError as e:\n",
    "        print(e)"
   ]
  },
  {
   "cell_type": "markdown",
   "metadata": {},
   "source": [
    "# JPL Mars Space Images - Featured Image (Splinter)"
   ]
  },
  {
   "cell_type": "markdown",
   "metadata": {},
   "source": [
    "* Visit the url for JPL Featured Space Image here.\n",
    "\n",
    "* Use splinter to navigate the site and find the image url for the current Featured Mars Image and assign the url string to a variable called featured_image_url.\n",
    "\n",
    "* Make sure to find the image url to the full size .jpg image.\n",
    "\n",
    "* Make sure to save a complete url string for this image."
   ]
  },
  {
   "cell_type": "code",
   "execution_count": 7,
   "metadata": {},
   "outputs": [],
   "source": [
    "#URL to be scraped\n",
    "url = 'https://www.jpl.nasa.gov/spaceimages/?search=&category=Mars'\n",
    "#Retrieve page with request module\n",
    "browser.visit(url)"
   ]
  },
  {
   "cell_type": "code",
   "execution_count": 8,
   "metadata": {},
   "outputs": [],
   "source": [
    "#Create html object\n",
    "html = browser.html\n",
    "#Create soup from html\n",
    "jpl_soup = BS(html, 'lxml')"
   ]
  },
  {
   "cell_type": "code",
   "execution_count": 9,
   "metadata": {},
   "outputs": [],
   "source": [
    "# pull images from website\n",
    "images = jpl_soup.find_all('a', class_=\"fancybox\")\n"
   ]
  },
  {
   "cell_type": "code",
   "execution_count": 10,
   "metadata": {},
   "outputs": [
    {
     "name": "stdout",
     "output_type": "stream",
     "text": [
      "--------------\n",
      "Find features JPL image at the following link:  https://www.jpl.nasa.gov/spaceimages/images/mediumsize/PIA19039_ip.jpg\n",
      "--------------\n",
      "Find features JPL image at the following link:  https://www.jpl.nasa.gov/spaceimages/images/largesize/PIA23745_hires.jpg\n",
      "--------------\n",
      "Find features JPL image at the following link:  https://www.jpl.nasa.gov/spaceimages/images/largesize/PIA23744_hires.jpg\n",
      "--------------\n",
      "Find features JPL image at the following link:  https://www.jpl.nasa.gov/spaceimages/images/largesize/PIA23623_hires.jpg\n",
      "--------------\n",
      "Find features JPL image at the following link:  https://www.jpl.nasa.gov/spaceimages/images/largesize/PIA23743_hires.jpg\n",
      "--------------\n",
      "Find features JPL image at the following link:  https://www.jpl.nasa.gov/spaceimages/images/largesize/PIA23742_hires.jpg\n",
      "--------------\n",
      "Find features JPL image at the following link:  https://www.jpl.nasa.gov/spaceimages/images/largesize/PIA23741_hires.jpg\n",
      "--------------\n",
      "Find features JPL image at the following link:  https://www.jpl.nasa.gov/spaceimages/images/largesize/PIA23735_hires.jpg\n",
      "--------------\n",
      "Find features JPL image at the following link:  https://www.jpl.nasa.gov/spaceimages/images/largesize/PIA23734_hires.jpg\n",
      "--------------\n",
      "Find features JPL image at the following link:  https://www.jpl.nasa.gov/spaceimages/images/largesize/PIA23733_hires.jpg\n",
      "--------------\n",
      "Find features JPL image at the following link:  https://www.jpl.nasa.gov/spaceimages/images/largesize/PIA23732_hires.jpg\n",
      "--------------\n",
      "Find features JPL image at the following link:  https://www.jpl.nasa.gov/spaceimages/images/largesize/PIA23731_hires.jpg\n",
      "--------------\n",
      "Find features JPL image at the following link:  https://www.jpl.nasa.gov/spaceimages/images/largesize/PIA23710_hires.jpg\n",
      "--------------\n",
      "Find features JPL image at the following link:  https://www.jpl.nasa.gov/spaceimages/images/largesize/PIA23622_hires.jpg\n",
      "--------------\n",
      "Find features JPL image at the following link:  https://www.jpl.nasa.gov/spaceimages/images/largesize/PIA23619_hires.jpg\n",
      "--------------\n",
      "Find features JPL image at the following link:  https://www.jpl.nasa.gov/spaceimages/images/largesize/PIA23709_hires.jpg\n",
      "--------------\n",
      "Find features JPL image at the following link:  https://www.jpl.nasa.gov/spaceimages/images/largesize/PIA23708_hires.jpg\n",
      "--------------\n",
      "Find features JPL image at the following link:  https://www.jpl.nasa.gov/spaceimages/images/largesize/PIA23707_hires.jpg\n",
      "--------------\n",
      "Find features JPL image at the following link:  https://www.jpl.nasa.gov/spaceimages/images/largesize/PIA23706_hires.jpg\n",
      "--------------\n",
      "Find features JPL image at the following link:  https://www.jpl.nasa.gov/spaceimages/images/largesize/PIA23705_hires.jpg\n",
      "--------------\n",
      "Find features JPL image at the following link:  https://www.jpl.nasa.gov/spaceimages/images/largesize/PIA23704_hires.jpg\n",
      "--------------\n",
      "Find features JPL image at the following link:  https://www.jpl.nasa.gov/spaceimages/images/largesize/PIA23703_hires.jpg\n",
      "--------------\n",
      "Find features JPL image at the following link:  https://www.jpl.nasa.gov/spaceimages/images/largesize/PIA23702_hires.jpg\n",
      "--------------\n",
      "Find features JPL image at the following link:  https://www.jpl.nasa.gov/spaceimages/images/largesize/PIA23664_hires.jpg\n",
      "--------------\n",
      "Find features JPL image at the following link:  https://www.jpl.nasa.gov/spaceimages/images/largesize/PIA23663_hires.jpg\n",
      "--------------\n",
      "Find features JPL image at the following link:  https://www.jpl.nasa.gov/spaceimages/images/largesize/PIA23662_hires.jpg\n",
      "--------------\n",
      "Find features JPL image at the following link:  https://www.jpl.nasa.gov/spaceimages/images/largesize/PIA23661_hires.jpg\n",
      "--------------\n",
      "Find features JPL image at the following link:  https://www.jpl.nasa.gov/spaceimages/images/largesize/PIA23660_hires.jpg\n",
      "--------------\n",
      "Find features JPL image at the following link:  https://www.jpl.nasa.gov/spaceimages/images/largesize/PIA23659_hires.jpg\n",
      "--------------\n",
      "Find features JPL image at the following link:  https://www.jpl.nasa.gov/spaceimages/images/largesize/PIA23658_hires.jpg\n",
      "--------------\n",
      "Find features JPL image at the following link:  https://www.jpl.nasa.gov/spaceimages/images/largesize/PIA23657_hires.jpg\n",
      "--------------\n",
      "Find features JPL image at the following link:  https://www.jpl.nasa.gov/spaceimages/images/largesize/PIA23656_hires.jpg\n",
      "--------------\n",
      "Find features JPL image at the following link:  https://www.jpl.nasa.gov/spaceimages/images/largesize/PIA23655_hires.jpg\n"
     ]
    }
   ],
   "source": [
    "# pull image link\n",
    "image_url = []\n",
    "\n",
    "#Loop through image list and capture urls of large images\n",
    "for image in images:\n",
    "    #Try and catch block to catch all image links and print if not throw an error\n",
    "    try:\n",
    "        pic = image['data-fancybox-href']\n",
    "        image_url.append(pic)\n",
    "    \n",
    "        if(pic):\n",
    "            print('--------------')\n",
    "            featured_image_url = 'https://www.jpl.nasa.gov' + pic\n",
    "            print(f'Find features JPL image at the following link:  {featured_image_url}')\n",
    "        \n",
    "       \n",
    "    except AtrributeError as e:\n",
    "        print(e)\n",
    "    "
   ]
  },
  {
   "cell_type": "markdown",
   "metadata": {},
   "source": [
    "# Mars Weather (Splinter)"
   ]
  },
  {
   "cell_type": "markdown",
   "metadata": {},
   "source": [
    "* Visit the Mars Weather twitter account here and scrape the latest Mars weather tweet from the page. Save the tweet text for the weather report as a variable called mars_weather."
   ]
  },
  {
   "cell_type": "code",
   "execution_count": 23,
   "metadata": {},
   "outputs": [],
   "source": [
    "url = 'https://twitter.com/marswxreport?lang=en'\n",
    "#Retrieve page with request module\n",
    "browser.visit(url)"
   ]
  },
  {
   "cell_type": "code",
   "execution_count": 24,
   "metadata": {},
   "outputs": [],
   "source": [
    "#Save response in variable\n",
    "html1 = browser.html\n",
    "#Use Beautiful soup to parse through twitter html\n",
    "weather_soup = BS(html1, 'html.parser')"
   ]
  },
  {
   "cell_type": "code",
   "execution_count": 30,
   "metadata": {},
   "outputs": [],
   "source": [
    "#weather_soup"
   ]
  },
  {
   "cell_type": "code",
   "execution_count": 26,
   "metadata": {},
   "outputs": [],
   "source": [
    "#Search to find all weather related portions of the html soup\n",
    "weather = weather_soup.find_all(\"span\",{\"css-901oao css-16my406 r-1qd0xha r-ad9z0x r-bcqeeo r-qvutc0\"})\n"
   ]
  },
  {
   "cell_type": "code",
   "execution_count": 32,
   "metadata": {},
   "outputs": [],
   "source": [
    "#Loop through the possible weather reports, number each one to identify the lastest weather report from Mars\n",
    "#for i in range(0, len(weather)):\n",
    "    #print(i, weather[i])"
   ]
  },
  {
   "cell_type": "code",
   "execution_count": 31,
   "metadata": {},
   "outputs": [
    {
     "data": {
      "text/plain": [
       "'InSight sol 455 (2020-03-08) low -95.4ºC (-139.8ºF) high -13.0ºC (8.5ºF)\\nwinds from the SSE at 6.0 m/s (13.5 mph) gusting to 20.7 m/s (46.2 mph)\\npressure at 6.40 hPa'"
      ]
     },
     "execution_count": 31,
     "metadata": {},
     "output_type": "execute_result"
    }
   ],
   "source": [
    "#Save weather report in variable\n",
    "mars_weather = weather[27].text.strip()\n",
    "mars_weather   "
   ]
  },
  {
   "cell_type": "markdown",
   "metadata": {},
   "source": [
    "# Mars Facts (Pandas)"
   ]
  },
  {
   "cell_type": "markdown",
   "metadata": {},
   "source": [
    "* Visit the Mars Facts webpage here and use Pandas to scrape the table containing facts about the planet including Diameter, Mass, etc.\n",
    "\n",
    "* Use Pandas to convert the data to a HTML table string."
   ]
  },
  {
   "cell_type": "code",
   "execution_count": 16,
   "metadata": {},
   "outputs": [],
   "source": [
    "url = 'https://space-facts.com/mars/'\n",
    "#Retrieve page with request module\n",
    "mars_facts = pd.read_html(url)"
   ]
  },
  {
   "cell_type": "code",
   "execution_count": 17,
   "metadata": {},
   "outputs": [
    {
     "data": {
      "text/plain": [
       "[                      0                              1\n",
       " 0  Equatorial Diameter:                       6,792 km\n",
       " 1       Polar Diameter:                       6,752 km\n",
       " 2                 Mass:  6.39 × 10^23 kg (0.11 Earths)\n",
       " 3                Moons:            2 (Phobos & Deimos)\n",
       " 4       Orbit Distance:       227,943,824 km (1.38 AU)\n",
       " 5         Orbit Period:           687 days (1.9 years)\n",
       " 6  Surface Temperature:                   -87 to -5 °C\n",
       " 7         First Record:              2nd millennium BC\n",
       " 8          Recorded By:           Egyptian astronomers,\n",
       "   Mars - Earth Comparison             Mars            Earth\n",
       " 0               Diameter:         6,779 km        12,742 km\n",
       " 1                   Mass:  6.39 × 10^23 kg  5.97 × 10^24 kg\n",
       " 2                  Moons:                2                1\n",
       " 3      Distance from Sun:   227,943,824 km   149,598,262 km\n",
       " 4         Length of Year:   687 Earth days      365.24 days\n",
       " 5            Temperature:    -153 to 20 °C      -88 to 58°C,\n",
       "                       0                              1\n",
       " 0  Equatorial Diameter:                       6,792 km\n",
       " 1       Polar Diameter:                       6,752 km\n",
       " 2                 Mass:  6.39 × 10^23 kg (0.11 Earths)\n",
       " 3                Moons:            2 (Phobos & Deimos)\n",
       " 4       Orbit Distance:       227,943,824 km (1.38 AU)\n",
       " 5         Orbit Period:           687 days (1.9 years)\n",
       " 6  Surface Temperature:                   -87 to -5 °C\n",
       " 7         First Record:              2nd millennium BC\n",
       " 8          Recorded By:           Egyptian astronomers]"
      ]
     },
     "execution_count": 17,
     "metadata": {},
     "output_type": "execute_result"
    }
   ],
   "source": [
    "#Print response list\n",
    "mars_facts"
   ]
  },
  {
   "cell_type": "code",
   "execution_count": 18,
   "metadata": {},
   "outputs": [],
   "source": [
    "#Convert response list to dataframe\n",
    "df = mars_facts[0]"
   ]
  },
  {
   "cell_type": "code",
   "execution_count": 19,
   "metadata": {},
   "outputs": [
    {
     "data": {
      "text/html": [
       "<div>\n",
       "<style scoped>\n",
       "    .dataframe tbody tr th:only-of-type {\n",
       "        vertical-align: middle;\n",
       "    }\n",
       "\n",
       "    .dataframe tbody tr th {\n",
       "        vertical-align: top;\n",
       "    }\n",
       "\n",
       "    .dataframe thead th {\n",
       "        text-align: right;\n",
       "    }\n",
       "</style>\n",
       "<table border=\"1\" class=\"dataframe\">\n",
       "  <thead>\n",
       "    <tr style=\"text-align: right;\">\n",
       "      <th></th>\n",
       "      <th>0</th>\n",
       "      <th>1</th>\n",
       "    </tr>\n",
       "  </thead>\n",
       "  <tbody>\n",
       "    <tr>\n",
       "      <th>0</th>\n",
       "      <td>Equatorial Diameter:</td>\n",
       "      <td>6,792 km</td>\n",
       "    </tr>\n",
       "    <tr>\n",
       "      <th>1</th>\n",
       "      <td>Polar Diameter:</td>\n",
       "      <td>6,752 km</td>\n",
       "    </tr>\n",
       "    <tr>\n",
       "      <th>2</th>\n",
       "      <td>Mass:</td>\n",
       "      <td>6.39 × 10^23 kg (0.11 Earths)</td>\n",
       "    </tr>\n",
       "    <tr>\n",
       "      <th>3</th>\n",
       "      <td>Moons:</td>\n",
       "      <td>2 (Phobos &amp; Deimos)</td>\n",
       "    </tr>\n",
       "    <tr>\n",
       "      <th>4</th>\n",
       "      <td>Orbit Distance:</td>\n",
       "      <td>227,943,824 km (1.38 AU)</td>\n",
       "    </tr>\n",
       "    <tr>\n",
       "      <th>5</th>\n",
       "      <td>Orbit Period:</td>\n",
       "      <td>687 days (1.9 years)</td>\n",
       "    </tr>\n",
       "    <tr>\n",
       "      <th>6</th>\n",
       "      <td>Surface Temperature:</td>\n",
       "      <td>-87 to -5 °C</td>\n",
       "    </tr>\n",
       "    <tr>\n",
       "      <th>7</th>\n",
       "      <td>First Record:</td>\n",
       "      <td>2nd millennium BC</td>\n",
       "    </tr>\n",
       "    <tr>\n",
       "      <th>8</th>\n",
       "      <td>Recorded By:</td>\n",
       "      <td>Egyptian astronomers</td>\n",
       "    </tr>\n",
       "  </tbody>\n",
       "</table>\n",
       "</div>"
      ],
      "text/plain": [
       "                      0                              1\n",
       "0  Equatorial Diameter:                       6,792 km\n",
       "1       Polar Diameter:                       6,752 km\n",
       "2                 Mass:  6.39 × 10^23 kg (0.11 Earths)\n",
       "3                Moons:            2 (Phobos & Deimos)\n",
       "4       Orbit Distance:       227,943,824 km (1.38 AU)\n",
       "5         Orbit Period:           687 days (1.9 years)\n",
       "6  Surface Temperature:                   -87 to -5 °C\n",
       "7         First Record:              2nd millennium BC\n",
       "8          Recorded By:           Egyptian astronomers"
      ]
     },
     "execution_count": 19,
     "metadata": {},
     "output_type": "execute_result"
    }
   ],
   "source": [
    "#Print dataframe\n",
    "df"
   ]
  },
  {
   "cell_type": "code",
   "execution_count": 20,
   "metadata": {},
   "outputs": [],
   "source": [
    "#Convert dataframe to html\n",
    "mars_facts_html = df.to_html()"
   ]
  },
  {
   "cell_type": "code",
   "execution_count": 21,
   "metadata": {},
   "outputs": [
    {
     "data": {
      "text/plain": [
       "'<table border=\"1\" class=\"dataframe\">\\n  <thead>\\n    <tr style=\"text-align: right;\">\\n      <th></th>\\n      <th>0</th>\\n      <th>1</th>\\n    </tr>\\n  </thead>\\n  <tbody>\\n    <tr>\\n      <th>0</th>\\n      <td>Equatorial Diameter:</td>\\n      <td>6,792 km</td>\\n    </tr>\\n    <tr>\\n      <th>1</th>\\n      <td>Polar Diameter:</td>\\n      <td>6,752 km</td>\\n    </tr>\\n    <tr>\\n      <th>2</th>\\n      <td>Mass:</td>\\n      <td>6.39 × 10^23 kg (0.11 Earths)</td>\\n    </tr>\\n    <tr>\\n      <th>3</th>\\n      <td>Moons:</td>\\n      <td>2 (Phobos &amp; Deimos)</td>\\n    </tr>\\n    <tr>\\n      <th>4</th>\\n      <td>Orbit Distance:</td>\\n      <td>227,943,824 km (1.38 AU)</td>\\n    </tr>\\n    <tr>\\n      <th>5</th>\\n      <td>Orbit Period:</td>\\n      <td>687 days (1.9 years)</td>\\n    </tr>\\n    <tr>\\n      <th>6</th>\\n      <td>Surface Temperature:</td>\\n      <td>-87 to -5 °C</td>\\n    </tr>\\n    <tr>\\n      <th>7</th>\\n      <td>First Record:</td>\\n      <td>2nd millennium BC</td>\\n    </tr>\\n    <tr>\\n      <th>8</th>\\n      <td>Recorded By:</td>\\n      <td>Egyptian astronomers</td>\\n    </tr>\\n  </tbody>\\n</table>'"
      ]
     },
     "execution_count": 21,
     "metadata": {},
     "output_type": "execute_result"
    }
   ],
   "source": [
    "#Mars facts html\n",
    "mars_facts_html"
   ]
  },
  {
   "cell_type": "markdown",
   "metadata": {},
   "source": [
    "# Mars Hemispheres (Splinter)"
   ]
  },
  {
   "cell_type": "markdown",
   "metadata": {},
   "source": [
    "* Visit the USGS Astrogeology site here to obtain high resolution images for each of Mar’s hemispheres.\n",
    "\n",
    "* You will need to click each of the links to the hemispheres in order to find the image url to the full resolution image.\n",
    "\n",
    "* Save both the image url string for the full resolution hemisphere image, and the Hemisphere title containing the hemisphere name. Use a Python dictionary to store the data using the keys img_url and title.\n",
    "\n",
    "* Append the dictionary with the image url string and the hemisphere title to a list. This list will contain one dictionary for each hemisphere."
   ]
  },
  {
   "cell_type": "code",
   "execution_count": 3,
   "metadata": {},
   "outputs": [
    {
     "name": "stdout",
     "output_type": "stream",
     "text": [
      "https://astrogeology.usgs.gov/search/results?q=hemisphere+enhanced&k1=target&v1=Mars\n"
     ]
    }
   ],
   "source": [
    "# Visit https://astrogeology.usgs.gov/search/results?q=hemisphere+enhanced&k1=target&v1=Mars\n",
    "hemi_url = 'https://astrogeology.usgs.gov/search/results?q=hemisphere+enhanced&k1=target&v1=Mars'\n",
    "browser.visit(hemi_url)\n",
    "print(hemi_url)"
   ]
  },
  {
   "cell_type": "code",
   "execution_count": 7,
   "metadata": {},
   "outputs": [],
   "source": [
    "#Create html object\n",
    "html2 = browser.html\n",
    "#Create soup from html\n",
    "hemi_soup = BS(html2, 'lxml')"
   ]
  },
  {
   "cell_type": "code",
   "execution_count": 11,
   "metadata": {},
   "outputs": [],
   "source": [
    "# Retrieve items that contain hemisphere info\n",
    "items = hemi_soup.find_all('div', class_='item')\n",
    "\n",
    "# Create empty list for hemisphere urls\n",
    "hemisphere_image_urls = []\n",
    "\n",
    "# Define anchor url \n",
    "hemisphere_base_url = 'https://astrogeology.usgs.gov'\n",
    "\n",
    "# Loop through the items previously stored\n",
    "for ext in items: \n",
    "    try:\n",
    "        # Store title\n",
    "        title = ext.find('h3').text\n",
    "    \n",
    "        # Store link appendage for full image link\n",
    "        append_img_url = ext.find('a', class_='itemLink product-item')['href']\n",
    "    \n",
    "        # Visit full image website \n",
    "        browser.visit(hemisphere_base_url + append_img_url)\n",
    "    \n",
    "        # Create HTML object of individual hemisphere information website \n",
    "        append_img_html = browser.html\n",
    "    \n",
    "        # Parse HTML with Beautiful Soup for every individual hemisphere information website \n",
    "        soup = BS(append_img_html, 'html.parser')\n",
    "    \n",
    "        # Build full image url \n",
    "        img_url = hemisphere_base_url + soup.find('img', class_='wide-image')['src']\n",
    "    \n",
    "        if(title and img_url):\n",
    "            # Append to a list of dictionaries \n",
    "            hemisphere_image_urls.append({\"title\" : title, \"img_url\" : img_url})\n",
    "       \n",
    "    except AtrributeError as e:\n",
    "        print(e)\n",
    "        "
   ]
  },
  {
   "cell_type": "code",
   "execution_count": 12,
   "metadata": {},
   "outputs": [
    {
     "data": {
      "text/plain": [
       "[{'title': 'Cerberus Hemisphere Enhanced',\n",
       "  'img_url': 'https://astrogeology.usgs.gov/cache/images/cfa62af2557222a02478f1fcd781d445_cerberus_enhanced.tif_full.jpg'},\n",
       " {'title': 'Schiaparelli Hemisphere Enhanced',\n",
       "  'img_url': 'https://astrogeology.usgs.gov/cache/images/3cdd1cbf5e0813bba925c9030d13b62e_schiaparelli_enhanced.tif_full.jpg'},\n",
       " {'title': 'Syrtis Major Hemisphere Enhanced',\n",
       "  'img_url': 'https://astrogeology.usgs.gov/cache/images/ae209b4e408bb6c3e67b6af38168cf28_syrtis_major_enhanced.tif_full.jpg'},\n",
       " {'title': 'Valles Marineris Hemisphere Enhanced',\n",
       "  'img_url': 'https://astrogeology.usgs.gov/cache/images/7cf2da4bf549ed01c17f206327be4db7_valles_marineris_enhanced.tif_full.jpg'}]"
      ]
     },
     "execution_count": 12,
     "metadata": {},
     "output_type": "execute_result"
    }
   ],
   "source": [
    "hemisphere_image_urls"
   ]
  },
  {
   "cell_type": "code",
   "execution_count": null,
   "metadata": {},
   "outputs": [],
   "source": []
  }
 ],
 "metadata": {
  "kernelspec": {
   "display_name": "Python 3",
   "language": "python",
   "name": "python3"
  },
  "language_info": {
   "codemirror_mode": {
    "name": "ipython",
    "version": 3
   },
   "file_extension": ".py",
   "mimetype": "text/x-python",
   "name": "python",
   "nbconvert_exporter": "python",
   "pygments_lexer": "ipython3",
   "version": "3.7.6"
  }
 },
 "nbformat": 4,
 "nbformat_minor": 4
}
